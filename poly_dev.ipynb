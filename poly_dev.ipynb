{
 "cells": [
  {
   "cell_type": "code",
   "execution_count": 1,
   "id": "b3649c84",
   "metadata": {},
   "outputs": [],
   "source": [
    "import numpy as np\n",
    "import pandas as pd\n",
    "import matplotlib.pyplot as plt\n",
    "rng = np.random.default_rng()"
   ]
  },
  {
   "cell_type": "code",
   "execution_count": 2,
   "id": "7976a04f",
   "metadata": {},
   "outputs": [],
   "source": [
    "import kurvy"
   ]
  },
  {
   "cell_type": "code",
   "execution_count": 3,
   "id": "dc42ad99",
   "metadata": {},
   "outputs": [],
   "source": [
    "# CONFIG\n",
    "scale_min = 0\n",
    "scale_max = 1\n",
    "train_test_split = (85,15)"
   ]
  },
  {
   "cell_type": "markdown",
   "id": "3e4b7939",
   "metadata": {},
   "source": [
    "## Data Prep"
   ]
  },
  {
   "cell_type": "code",
   "execution_count": null,
   "id": "6d8865e9",
   "metadata": {},
   "outputs": [],
   "source": [
    "# df = pd.read_csv(\"weight.csv\",header=None).rename(columns={0:\"date\",1:\"kg\"})\n",
    "# X_raw = np.array(df.index)\n",
    "# Y_raw = np.array(df[\"kg\"])\n",
    "real_params, X_raw, Y_raw = curvy.trig.make_data((0,1000),1000,fuzz=3,seed=66)\n",
    "curvy.plots.simple_plot(X_raw, Y_raw)"
   ]
  },
  {
   "cell_type": "code",
   "execution_count": null,
   "id": "58fe9606",
   "metadata": {},
   "outputs": [],
   "source": [
    "# scale X data\n",
    "X_raw_min = np.min(X_raw)\n",
    "X_raw_max = np.max(X_raw)\n",
    "X = curvy.utils.min_max_scale(X_raw,scale_min,scale_max,X_raw_min,X_raw_max)\n",
    "# scale Y data\n",
    "Y_raw_min = np.min(Y_raw)\n",
    "Y_raw_max = np.max(Y_raw)\n",
    "Y = curvy.utils.min_max_scale(Y_raw,scale_min,scale_max,Y_raw_min,Y_raw_max)\n",
    "# combine X and Y data\n",
    "XY = np.dstack((X,Y))[0]"
   ]
  },
  {
   "cell_type": "code",
   "execution_count": null,
   "id": "93943009",
   "metadata": {},
   "outputs": [],
   "source": [
    "# shuffle data\n",
    "shuffle_idxs = rng.choice(XY.shape[0],XY.shape[0],replace=False)\n",
    "XY = XY[shuffle_idxs]"
   ]
  },
  {
   "cell_type": "code",
   "execution_count": null,
   "id": "98061bac",
   "metadata": {},
   "outputs": [],
   "source": [
    "# split data\n",
    "split_pcts = (85,15)\n",
    "splits = curvy.utils.split_n(XY.shape[0],split_pcts)\n",
    "XY_train = XY[:splits[0]]\n",
    "X_train = XY_train[:,0]\n",
    "Y_train = XY_train[:,1]\n",
    "XY_test = XY[splits[0]:]\n",
    "# sorted data for plots\n",
    "X_train_sorted = XY_train[np.argsort(XY_train[:,0])][:,0]\n",
    "Y_train_sorted = XY_train[np.argsort(XY_train[:,0])][:,1]"
   ]
  },
  {
   "cell_type": "code",
   "execution_count": null,
   "id": "80a486b3",
   "metadata": {},
   "outputs": [],
   "source": [
    "curvy.utils.simple_plot(X_train_sorted,Y_train_sorted,test_data=XY_test)"
   ]
  },
  {
   "cell_type": "code",
   "execution_count": null,
   "id": "0bc1521d",
   "metadata": {},
   "outputs": [],
   "source": []
  }
 ],
 "metadata": {
  "kernelspec": {
   "display_name": "Python 3 (ipykernel)",
   "language": "python",
   "name": "python3"
  },
  "language_info": {
   "codemirror_mode": {
    "name": "ipython",
    "version": 3
   },
   "file_extension": ".py",
   "mimetype": "text/x-python",
   "name": "python",
   "nbconvert_exporter": "python",
   "pygments_lexer": "ipython3",
   "version": "3.9.16"
  }
 },
 "nbformat": 4,
 "nbformat_minor": 5
}
